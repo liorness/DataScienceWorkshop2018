{
 "cells": [
  {
   "cell_type": "markdown",
   "metadata": {},
   "source": [
    "# Using Yelp Dataset To Improve My Business\n",
    "In this notebook, we'll explore the various ways in which the Yelp Dataset can help a business improve.\n",
    "Let's say we have a business, say, a pizza place, and we'd like know what can make it even better.\n",
    "We'll use the following models:\n",
    "1. Analyzing which business attributes (e.g., having a parking lot, accepting business card, allowing smoking and so on) are correlated with higher star rating.\n",
    "2. Finding users that are most likely to enjoy our business and target them with ads, using collaborative filtering methods.\n",
    "    "
   ]
  },
  {
   "cell_type": "markdown",
   "metadata": {},
   "source": [
    "### Data Pre-processing\n",
    "The Yelp dataset has some compound columns. For example, in the business table, there's a \"categories\" column which has multiple items in each cell (e.g., \"Restaurant; Pizza; Fast Food\"). For convenience, we'll split this column into multiple boolean columns that can be used as features. We'll do the same for the \"attributes\" column."
   ]
  },
  {
   "cell_type": "code",
   "execution_count": 1,
   "metadata": {
    "collapsed": true
   },
   "outputs": [],
   "source": [
    "import json\n",
    "import numpy as np\n",
    "import pandas as pd\n",
    "import matplotlib.pyplot as plt\n",
    "import seaborn as sns\n",
    "import time\n"
   ]
  },
  {
   "cell_type": "code",
   "execution_count": 2,
   "metadata": {},
   "outputs": [
    {
     "name": "stdout",
     "output_type": "stream",
     "text": [
      "Number of businesses loaded = 50000\n"
     ]
    }
   ],
   "source": [
    "LINE_LIMIT = 50000\n",
    "\n",
    "# Load data\n",
    "business_data = []\n",
    "line_count = 0\n",
    "with open('yelp-dataset/business.json', 'r') as f:\n",
    "    for line in f:\n",
    "        if LINE_LIMIT is None or line_count < LINE_LIMIT:\n",
    "            business_data.append(json.loads(line))\n",
    "            line_count += 1\n",
    "        else:\n",
    "            break\n",
    "business_df = pd.DataFrame.from_dict(business_data)\n",
    "business_df = business_df.rename(columns = {'name': 'business_name'})\n",
    "del business_data\n",
    "print('Number of businesses loaded = ' + str(len(business_df)))"
   ]
  },
  {
   "cell_type": "code",
   "execution_count": 3,
   "metadata": {},
   "outputs": [
    {
     "name": "stdout",
     "output_type": "stream",
     "text": [
      "Finished splitting categories in 83.61974906921387 seconds.\n"
     ]
    }
   ],
   "source": [
    "# Convert categories into multiple indicator columns\n",
    "start_time = time.time()\n",
    "business_df['categories_clean'] = business_df['categories'].map(lambda x: '|'.join(x))\n",
    "categories_df = business_df.categories_clean.str.get_dummies(sep='|')\n",
    "num_categories = len(categories_df.columns)\n",
    "business_df = business_df.merge(categories_df, left_index=True, right_index=True)\n",
    "business_df.drop(['categories', 'categories_clean'], axis=1, inplace=True)\n",
    "categories_start_column = len(business_df.columns)\n",
    "categories_end_column = categories_start_column + num_categories\n",
    "end_time = time.time()\n",
    "print('Finished splitting categories in ' + str(end_time - start_time) + ' seconds.')"
   ]
  },
  {
   "cell_type": "code",
   "execution_count": 4,
   "metadata": {},
   "outputs": [
    {
     "name": "stdout",
     "output_type": "stream",
     "text": [
      "Finished splitting attributes in 38.57020378112793 seconds.\n"
     ]
    }
   ],
   "source": [
    "start_time = time.time()\n",
    "# Convert attributes into multiple columns\n",
    "business_df = business_df.join(pd.DataFrame(business_df['attributes'].to_dict()).T)\n",
    "cols_to_split = ['BusinessParking', 'Ambience', 'BestNights', 'GoodForMeal', 'HairSpecializesIn', 'Music']\n",
    "for col_to_split in cols_to_split:\n",
    "    new_df = pd.DataFrame(business_df[col_to_split].to_dict()).T\n",
    "    new_df.columns = [col_to_split + '_' + str(col) for col in new_df.columns]\n",
    "    business_df = business_df.join(new_df)\n",
    "\n",
    "# Remove redundant data to save memory\n",
    "business_df.drop(['attributes'] + cols_to_split, axis=1, inplace=True)\n",
    "business_df.drop(['postal_code', 'neighborhood'], axis=1, inplace=True)\n",
    "\n",
    "# Further columns split\n",
    "cols_to_split = ['AgesAllowed', 'Alcohol', 'BYOBCorkage', 'NoiseLevel', 'RestaurantsAttire', 'Smoking', 'WiFi']\n",
    "new_cat = pd.concat([pd.get_dummies(business_df[col], prefix=col, prefix_sep='_') for col in cols_to_split], axis=1)\n",
    "business_df = pd.concat([business_df, new_cat], axis=1)\n",
    "business_df.drop(cols_to_split, inplace=True, axis=1)\n",
    "business_df = business_df.fillna(0.5).apply(pd.to_numeric, errors='ignore')\n",
    "end_time = time.time()\n",
    "print('Finished splitting attributes in ' + str(end_time - start_time) + ' seconds.')"
   ]
  },
  {
   "cell_type": "code",
   "execution_count": 180,
   "metadata": {},
   "outputs": [
    {
     "name": "stdout",
     "output_type": "stream",
     "text": [
      "-------------- Basic Data ---------------\n",
      "[(0, 'address'),\n",
      " (1, 'business_id'),\n",
      " (2, 'city'),\n",
      " (3, 'hours'),\n",
      " (4, 'is_open'),\n",
      " (5, 'latitude'),\n",
      " (6, 'longitude'),\n",
      " (7, 'business_name'),\n",
      " (8, 'review_count'),\n",
      " (9, 'stars'),\n",
      " (10, 'state')]\n",
      "Basic data is in columns  0 to 11\n",
      "Categories are in columns 12 to 1205\n",
      "Attributes are in columns 1205 to 1296\n"
     ]
    }
   ],
   "source": [
    "from pprint import pprint\n",
    "\n",
    "basic_data_start = 0\n",
    "basic_data_end = 11\n",
    "categories_start = 12\n",
    "categories_end = 12 + num_categories - 1\n",
    "attributes_start = 12 + num_categories - 1\n",
    "attributes_end = len(business_df.columns)\n",
    "\n",
    "# Columns 0:10 = basic data\n",
    "basic_cols = list(enumerate(business_df.columns[basic_data_start:basic_data_end]))\n",
    "\n",
    "# Columns 11:531 = categories\n",
    "category_cols = list(enumerate(business_df.columns[categories_start:categories_end]))\n",
    "\n",
    "# Columns 532:519 = attributes\n",
    "attribute_cols = list(enumerate(business_df.columns[attributes_start:attributes_end]))\n",
    "\n",
    "print('-------------- Basic Data ---------------')\n",
    "pprint(basic_cols)\n",
    "# print('-------------- Categories ---------------')\n",
    "# pprint(category_cols)\n",
    "# print('-------------- Attributes ---------------')\n",
    "# pprint(attribute_cols)\n",
    "\n",
    "print('Basic data is in columns  ' + str(basic_data_start) + ' to ' + str(basic_data_end))\n",
    "print('Categories are in columns ' + str(categories_start) + ' to ' + str(categories_end))\n",
    "print('Attributes are in columns ' + str(attributes_start) + ' to ' + str(attributes_end))\n"
   ]
  },
  {
   "cell_type": "markdown",
   "metadata": {},
   "source": [
    "### Analyze Categories"
   ]
  },
  {
   "cell_type": "code",
   "execution_count": 18,
   "metadata": {},
   "outputs": [
    {
     "data": {
      "text/plain": [
       "Text(0.5,1,'Top 30 Yelp Categories')"
      ]
     },
     "execution_count": 18,
     "metadata": {},
     "output_type": "execute_result"
    },
    {
     "data": {
      "image/png": "[encoded data removed]",
      "text/plain": [
       "<matplotlib.figure.Figure at 0x10945d0f0>"
      ]
     },
     "metadata": {},
     "output_type": "display_data"
    }
   ],
   "source": [
    "category_counts = business_df.iloc[:, categories_start:categories_end].sum()\n",
    "category_counts.sort_values(inplace=True, ascending=False)\n",
    "category_counts_df = pd.DataFrame([category_counts])\n",
    "\n",
    "plt.figure(figsize=(10,10))\n",
    "f = sns.barplot(data=category_counts_df.iloc[:, 0:30], orient='h')\n",
    "f.set_ylabel('Category')\n",
    "f.set_xlabel('Count')\n",
    "f.set_title('Top 30 Yelp Categories')"
   ]
  },
  {
   "cell_type": "markdown",
   "metadata": {},
   "source": [
    "### Analyze Attributes"
   ]
  },
  {
   "cell_type": "code",
   "execution_count": 17,
   "metadata": {},
   "outputs": [
    {
     "data": {
      "text/plain": [
       "Text(0.5,1,'Top 30 Yelp Business Attributes')"
      ]
     },
     "execution_count": 17,
     "metadata": {},
     "output_type": "execute_result"
    },
    {
     "data": {
      "image/png": "[encoded data removed]",
      "text/plain": [
       "<matplotlib.figure.Figure at 0x1095e5278>"
      ]
     },
     "metadata": {},
     "output_type": "display_data"
    }
   ],
   "source": [
    "attribute_counts = business_df.iloc[:, attributes_start:attributes_end].sum()\n",
    "attribute_counts.sort_values(inplace=True, ascending=False)\n",
    "attribute_counts_df = pd.DataFrame([attribute_counts])\n",
    "\n",
    "attribute_counts_df.head()\n",
    "\n",
    "plt.figure(figsize=(10,10))\n",
    "f = sns.barplot(data=attribute_counts_df.iloc[:, 0:30], orient='h')\n",
    "f.set_ylabel('Attribute')\n",
    "f.set_xlabel('Count')\n",
    "f.set_title('Top 30 Yelp Business Attributes')"
   ]
  },
  {
   "cell_type": "code",
   "execution_count": 8,
   "metadata": {},
   "outputs": [
    {
     "name": "stdout",
     "output_type": "stream",
     "text": [
      "There are 437 businesses with live music.\n",
      "There are 356 businesses that allow smoking.\n",
      "There are 14280 businesses that are good for kids.\n"
     ]
    }
   ],
   "source": [
    "# Examples!\n",
    "print('There are ' + str(len(business_df[business_df['Music_live']==1])) + ' businesses with live music.')\n",
    "print('There are ' + str(len(business_df[business_df['Smoking_yes']==1])) + ' businesses that allow smoking.')\n",
    "print('There are ' + str(len(business_df[business_df['GoodForKids']==1])) + ' businesses that are good for kids.')"
   ]
  },
  {
   "cell_type": "code",
   "execution_count": 13,
   "metadata": {
    "scrolled": false
   },
   "outputs": [
    {
     "data": {
      "image/png": "[encoded data removed]",
      "text/plain": [
       "<matplotlib.figure.Figure at 0x1095d4780>"
      ]
     },
     "metadata": {},
     "output_type": "display_data"
    }
   ],
   "source": [
    "# Attributes heatmap\n",
    "plt.figure(figsize=(10,10))\n",
    "f = sns.heatmap(business_df.iloc[:, attributes_start:attributes_end]!=0.5,yticklabels=False, cbar=False, cmap = 'viridis')"
   ]
  },
  {
   "cell_type": "markdown",
   "metadata": {},
   "source": [
    "### Correlation Between Attributes\n",
    "Let's check how attributes are correlated within themselves. "
   ]
  },
  {
   "cell_type": "code",
   "execution_count": 134,
   "metadata": {},
   "outputs": [
    {
     "data": {
      "image/png": "[encoded data removed]",
      "text/plain": [
       "<matplotlib.figure.Figure at 0x109855dd8>"
      ]
     },
     "metadata": {},
     "output_type": "display_data"
    }
   ],
   "source": [
    "# Correlation between attributes\n",
    "corr_df = business_df[['Alcohol_full_bar', 'Alcohol_beer_and_wine','NoiseLevel_loud','Smoking_yes', 'GoodForKids', 'Ambience_romantic']]\n",
    "sns.heatmap(corr_df.corr(), cmap='plasma');"
   ]
  },
  {
   "cell_type": "markdown",
   "metadata": {},
   "source": [
    "It seems that 'Alcohol_full_bar' venues are not so romantic, they are loud, and not so good for kids.\n",
    "\n",
    "### Correlation Between Attributes and Star Rating\n",
    "Let's analyze what are the most important attributes for a business (that is, attributes that correlate with higher star rating).\n",
    "Since every business type has different attributes, we'll focus on the top 20 categories separately. Data is sparse, so we'll consider per category only attributes that have 30% non-null values."
   ]
  },
  {
   "cell_type": "code",
   "execution_count": 227,
   "metadata": {},
   "outputs": [
    {
     "name": "stdout",
     "output_type": "stream",
     "text": [
      "\n",
      "----------------------------------\n",
      "Restaurants\n",
      "----------------------------------\n",
      "total of 15703 businesses found.\n",
      "21 significant attributes found for category.\n",
      "Mean squared error: 0.59\n",
      "R squared score: 0.07\n",
      "                  Attribute  Coefficient\n",
      "18                   Caters     0.243515\n",
      "5               BikeParking     0.150293\n",
      "14     WheelchairAccessible     0.135585\n",
      "9                   WiFi_no     0.131670\n",
      "19                WiFi_free     0.107445\n",
      "13        GoodForMeal_lunch     0.076488\n",
      "15  RestaurantsReservations     0.076481\n",
      "6   RestaurantsTableService     0.074569\n",
      "10   RestaurantsPriceRange2     0.067622\n",
      "16           OutdoorSeating     0.054603\n",
      "\n",
      "----------------------------------\n",
      "Shopping\n",
      "----------------------------------\n",
      "total of 8064 businesses found.\n",
      "4 significant attributes found for category.\n",
      "Mean squared error: 1.04\n",
      "R squared score: 0.02\n",
      "                    Attribute  Coefficient\n",
      "2        WheelchairAccessible     0.344727\n",
      "1                 BikeParking     0.176640\n",
      "0  BusinessAcceptsCreditCards     0.132135\n",
      "3         BusinessParking_lot    -0.098212\n",
      "\n",
      "----------------------------------\n",
      "Food\n",
      "----------------------------------\n",
      "total of 7090 businesses found.\n",
      "7 significant attributes found for category.\n",
      "Mean squared error: 0.68\n",
      "R squared score: 0.02\n",
      "                    Attribute  Coefficient\n",
      "4        WheelchairAccessible     0.253949\n",
      "2                 BikeParking     0.181227\n",
      "1          RestaurantsTakeOut     0.041404\n",
      "6    RestaurantsAttire_casual    -0.009352\n",
      "3      RestaurantsPriceRange2    -0.030236\n",
      "5         BusinessParking_lot    -0.049290\n",
      "0  BusinessAcceptsCreditCards    -0.203363\n",
      "\n",
      "----------------------------------\n",
      "Beauty & Spas\n",
      "----------------------------------\n",
      "total of 4832 businesses found.\n",
      "5 significant attributes found for category.\n",
      "Mean squared error: 0.91\n",
      "R squared score: 0.08\n",
      "                    Attribute  Coefficient\n",
      "3           ByAppointmentOnly     0.526657\n",
      "2        WheelchairAccessible     0.411686\n",
      "1                 BikeParking     0.314539\n",
      "4         BusinessParking_lot     0.087369\n",
      "0  BusinessAcceptsCreditCards    -0.050326\n",
      "\n",
      "----------------------------------\n",
      "Home Services\n",
      "----------------------------------\n",
      "total of 4565 businesses found.\n",
      "1 significant attributes found for category.\n",
      "Mean squared error: 1.60\n",
      "R squared score: 0.01\n",
      "                    Attribute  Coefficient\n",
      "0  BusinessAcceptsCreditCards     0.301327\n",
      "\n",
      "----------------------------------\n",
      "Health & Medical\n",
      "----------------------------------\n",
      "total of 4075 businesses found.\n",
      "3 significant attributes found for category.\n",
      "Mean squared error: 1.16\n",
      "R squared score: 0.06\n",
      "                    Attribute  Coefficient\n",
      "1  BusinessAcceptsCreditCards     0.712099\n",
      "0           ByAppointmentOnly     0.242973\n",
      "2            AcceptsInsurance    -0.454849\n",
      "\n",
      "----------------------------------\n",
      "Nightlife\n",
      "----------------------------------\n",
      "total of 3570 businesses found.\n",
      "18 significant attributes found for category.\n",
      "Mean squared error: 0.47\n",
      "R squared score: 0.06\n",
      "                     Attribute  Coefficient\n",
      "4                  BikeParking     0.241071\n",
      "9           NoiseLevel_average     0.192618\n",
      "15                   WiFi_free     0.125437\n",
      "11        WheelchairAccessible     0.111485\n",
      "0     RestaurantsGoodForGroups     0.110908\n",
      "13           BestNights_friday     0.105818\n",
      "1   BusinessAcceptsCreditCards     0.008438\n",
      "17         BusinessParking_lot    -0.008056\n",
      "5                    HappyHour    -0.009521\n",
      "14     RestaurantsReservations    -0.015777\n",
      "\n",
      "----------------------------------\n",
      "Automotive\n",
      "----------------------------------\n",
      "total of 3155 businesses found.\n",
      "1 significant attributes found for category.\n",
      "Mean squared error: 1.15\n",
      "R squared score: 0.03\n",
      "                    Attribute  Coefficient\n",
      "0  BusinessAcceptsCreditCards     0.595557\n",
      "\n",
      "----------------------------------\n",
      "Local Services\n",
      "----------------------------------\n",
      "total of 3136 businesses found.\n",
      "1 significant attributes found for category.\n",
      "Mean squared error: 1.29\n",
      "R squared score: -0.00\n",
      "                    Attribute  Coefficient\n",
      "0  BusinessAcceptsCreditCards     0.350116\n",
      "\n",
      "----------------------------------\n",
      "Bars\n",
      "----------------------------------\n",
      "total of 3103 businesses found.\n",
      "19 significant attributes found for category.\n",
      "Mean squared error: 0.47\n",
      "R squared score: 0.08\n",
      "                     Attribute  Coefficient\n",
      "4                  BikeParking     0.201140\n",
      "0     RestaurantsGoodForGroups     0.189657\n",
      "10          NoiseLevel_average     0.188152\n",
      "12                   WiFi_free     0.150295\n",
      "11        WheelchairAccessible     0.108739\n",
      "15           BestNights_friday     0.079662\n",
      "1   BusinessAcceptsCreditCards     0.006698\n",
      "14         BestNights_saturday     0.001382\n",
      "13     RestaurantsReservations    -0.014174\n",
      "5                    HappyHour    -0.015680\n",
      "\n",
      "----------------------------------\n",
      "Event Planning & Services\n",
      "----------------------------------\n",
      "total of 2629 businesses found.\n",
      "2 significant attributes found for category.\n",
      "Mean squared error: 0.96\n",
      "R squared score: 0.11\n",
      "                    Attribute  Coefficient\n",
      "0  BusinessAcceptsCreditCards     0.096593\n",
      "1                   WiFi_free    -0.606242\n",
      "\n",
      "----------------------------------\n",
      "Active Life\n",
      "----------------------------------\n",
      "total of 2368 businesses found.\n",
      "3 significant attributes found for category.\n",
      "Mean squared error: 0.81\n",
      "R squared score: 0.01\n",
      "                    Attribute  Coefficient\n",
      "2  BusinessAcceptsCreditCards     0.355331\n",
      "1                 BikeParking     0.217544\n",
      "0                 GoodForKids     0.166945\n",
      "\n",
      "----------------------------------\n",
      "Fashion\n",
      "----------------------------------\n",
      "total of 2001 businesses found.\n",
      "3 significant attributes found for category.\n",
      "Mean squared error: 0.88\n",
      "R squared score: -0.00\n",
      "                    Attribute  Coefficient\n",
      "2        WheelchairAccessible     0.277477\n",
      "0  BusinessAcceptsCreditCards     0.234001\n",
      "1                 BikeParking     0.133688\n",
      "\n",
      "----------------------------------\n",
      "Fast Food\n",
      "----------------------------------\n",
      "total of 1826 businesses found.\n",
      "12 significant attributes found for category.\n",
      "Mean squared error: 0.67\n",
      "R squared score: 0.15\n",
      "                   Attribute  Coefficient\n",
      "11         GoodForMeal_lunch     0.372762\n",
      "1                GoodForKids     0.231597\n",
      "4   RestaurantsGoodForGroups     0.150094\n",
      "0         RestaurantsTakeOut     0.131656\n",
      "7                BikeParking     0.130983\n",
      "5     RestaurantsPriceRange2     0.089591\n",
      "10                   WiFi_no     0.075435\n",
      "6               Alcohol_none     0.024782\n",
      "8         NoiseLevel_average     0.013817\n",
      "2   RestaurantsAttire_casual    -0.058151\n",
      "\n",
      "----------------------------------\n",
      "Sandwiches\n",
      "----------------------------------\n",
      "total of 1762 businesses found.\n",
      "18 significant attributes found for category.\n",
      "Mean squared error: 0.63\n",
      "R squared score: 0.04\n",
      "                   Attribute  Coefficient\n",
      "15      WheelchairAccessible     0.342853\n",
      "6                BikeParking     0.194884\n",
      "14                     HasTV     0.190897\n",
      "1   RestaurantsAttire_casual     0.153456\n",
      "13                 WiFi_free     0.145956\n",
      "0         RestaurantsTakeOut     0.132620\n",
      "10         GoodForMeal_lunch     0.106737\n",
      "3                GoodForKids     0.105321\n",
      "9                     Caters     0.093882\n",
      "12           Ambience_casual     0.092110\n",
      "\n",
      "----------------------------------\n",
      "Hair Salons\n",
      "----------------------------------\n",
      "total of 1761 businesses found.\n",
      "6 significant attributes found for category.\n",
      "Mean squared error: 0.78\n",
      "R squared score: 0.11\n",
      "                    Attribute  Coefficient\n",
      "3        WheelchairAccessible     0.464877\n",
      "4           ByAppointmentOnly     0.462190\n",
      "1                 GoodForKids     0.389511\n",
      "2                 BikeParking     0.265422\n",
      "5         BusinessParking_lot     0.078417\n",
      "0  BusinessAcceptsCreditCards    -0.101401\n",
      "\n",
      "----------------------------------\n",
      "Pizza\n",
      "----------------------------------\n",
      "total of 1758 businesses found.\n",
      "18 significant attributes found for category.\n",
      "Mean squared error: 0.57\n",
      "R squared score: 0.18\n",
      "                   Attribute  Coefficient\n",
      "13      WheelchairAccessible     0.450374\n",
      "12                    Caters     0.250807\n",
      "3                GoodForKids     0.250774\n",
      "6                BikeParking     0.168381\n",
      "0         RestaurantsTakeOut     0.154273\n",
      "7         NoiseLevel_average     0.130355\n",
      "15        GoodForMeal_dinner     0.082839\n",
      "10   RestaurantsTableService     0.081853\n",
      "11              Alcohol_none     0.072145\n",
      "2   RestaurantsAttire_casual     0.061317\n",
      "\n",
      "----------------------------------\n",
      "American (Traditional)\n",
      "----------------------------------\n",
      "total of 1730 businesses found.\n",
      "21 significant attributes found for category.\n",
      "Mean squared error: 0.44\n",
      "R squared score: 0.04\n",
      "                   Attribute  Coefficient\n",
      "20                    Caters     0.206875\n",
      "18                   WiFi_no     0.172982\n",
      "8         NoiseLevel_average     0.171518\n",
      "12      WheelchairAccessible     0.111140\n",
      "11                 WiFi_free     0.110201\n",
      "16        GoodForMeal_dinner     0.099486\n",
      "6                      HasTV     0.070713\n",
      "14            OutdoorSeating     0.063588\n",
      "2   RestaurantsGoodForGroups     0.051986\n",
      "17   RestaurantsReservations     0.037782\n",
      "\n",
      "----------------------------------\n",
      "Coffee & Tea\n",
      "----------------------------------\n",
      "total of 1679 businesses found.\n"
     ]
    },
    {
     "name": "stdout",
     "output_type": "stream",
     "text": [
      "7 significant attributes found for category.\n",
      "Mean squared error: 0.61\n",
      "R squared score: 0.02\n",
      "                    Attribute  Coefficient\n",
      "6        WheelchairAccessible     0.351947\n",
      "3                 BikeParking     0.329764\n",
      "4              OutdoorSeating     0.014054\n",
      "5      RestaurantsPriceRange2    -0.052302\n",
      "2                   WiFi_free    -0.062957\n",
      "1          RestaurantsTakeOut    -0.069185\n",
      "0  BusinessAcceptsCreditCards    -0.190757\n",
      "\n",
      "----------------------------------\n",
      "Hotels & Travel\n",
      "----------------------------------\n",
      "total of 1636 businesses found.\n",
      "2 significant attributes found for category.\n",
      "Mean squared error: 1.10\n",
      "R squared score: 0.00\n",
      "                    Attribute  Coefficient\n",
      "0  BusinessAcceptsCreditCards     0.421759\n",
      "1                   WiFi_free    -0.171982\n"
     ]
    }
   ],
   "source": [
    "from sklearn.model_selection import train_test_split\n",
    "from sklearn.metrics import mean_squared_error, r2_score\n",
    "from sklearn import linear_model\n",
    "\n",
    "categories_for_analysis = list(category_counts_df.columns)[:20]\n",
    "attributes_names = list(business_df.columns)[attributes_start:attributes_end]\n",
    "\n",
    "for category in categories_for_analysis:\n",
    "    print('\\n----------------------------------')\n",
    "    print(category)\n",
    "    print('----------------------------------')\n",
    "    print('total of ' + str(len(business_df[business_df[category]==1])) + ' businesses found.')\n",
    "    X = business_df[business_df[category]==1].iloc[:, attributes_start:attributes_end]\n",
    "    X = X.apply(lambda x: 0.5 if type(x) == 'dict' else x)\n",
    "    attr_counts = X[X == 1].count()\n",
    "    attr_counts = pd.DataFrame(attr_counts)\n",
    "    attr_counts['attr_col_idx'] = list(range(len(attr_counts)))\n",
    "    attr_counts.sort_values(by=0,ascending=False, inplace=True)\n",
    "    attr_counts = attr_counts[attr_counts[0] > len(X) * 0.3]\n",
    "    print(str(len(attr_counts)) + ' significant attributes found for category.')\n",
    "    X = X.as_matrix()\n",
    "    y = business_df[business_df[category]==1].iloc[:, 9].as_matrix().astype('float')\n",
    "    \n",
    "    # Filter only attributes with high information\n",
    "    chosen_attr_names = list(attr_counts.index)\n",
    "    X = X[:, attr_counts['attr_col_idx']]\n",
    "\n",
    "    # Even after data pre-processing, some cells contain dict objects due to json malformations - clean them up\n",
    "    X_floats = np.zeros(X.shape)\n",
    "    for idx, sample in enumerate(X):\n",
    "        cleaned_sample = []\n",
    "        for sub_sample in sample:\n",
    "            if isinstance(sub_sample, dict):\n",
    "                cleaned_sample.append(0.5)\n",
    "            else:\n",
    "                cleaned_sample.append(sub_sample)\n",
    "\n",
    "        cleaned_sample = np.asarray(cleaned_sample).astype('float')            \n",
    "        X_floats[idx, :] = cleaned_sample\n",
    "    \n",
    "    X = X_floats\n",
    "    \n",
    "    X_train, X_test, y_train, y_test = train_test_split(X, y, test_size=0.3, random_state=0)\n",
    "    regr = linear_model.LinearRegression()\n",
    "    regr.fit(X_train, y_train)\n",
    "    \n",
    "    y_pred = regr.predict(X_test)\n",
    "    \n",
    "    most_sig_attributes = pd.DataFrame({'Attribute':chosen_attr_names, 'Coefficient':regr.coef_})\n",
    "    most_sig_attributes = most_sig_attributes.sort_values(by=['Coefficient'], ascending=False)\n",
    "    \n",
    "    print(\"Mean squared error: %.2f\" % mean_squared_error(y_test, y_pred))\n",
    "    print('R squared score: %.2f' % r2_score(y_test, y_pred))\n",
    "    print(most_sig_attributes.iloc[:10,:])\n",
    "    \n",
    "    "
   ]
  },
  {
   "cell_type": "markdown",
   "metadata": {},
   "source": [
    "It seems that accepting a credit card, having a wheelchair access and bike parking are generally good things for your business. However, the R^2 values re generally low, so correlation isn't very strong."
   ]
  },
  {
   "cell_type": "markdown",
   "metadata": {},
   "source": [
    "### Collaborative Filtering - Which User Should I Target?\n",
    "Let's curate data for collaborative filtering."
   ]
  },
  {
   "cell_type": "code",
   "execution_count": 233,
   "metadata": {},
   "outputs": [
    {
     "name": "stdout",
     "output_type": "stream",
     "text": [
      "Number of top users (with more than 400 reviews) = 8966\n"
     ]
    }
   ],
   "source": [
    "# Get top user ID's to narrow down data size\n",
    "user = pd.read_csv('yelp-dataset/yelp_user.csv')\n",
    "user = user[user['review_count'] > 400]\n",
    "top_users = list(user['user_id'])\n",
    "print('Number of top users (with more than 400 reviews) = ' + str(len(top_users)))\n",
    "del user"
   ]
  },
  {
   "cell_type": "code",
   "execution_count": 408,
   "metadata": {},
   "outputs": [
    {
     "name": "stdout",
     "output_type": "stream",
     "text": [
      "Loading reviews table...\n",
      "done.\n",
      "Generating use-business matrix...\n"
     ]
    },
    {
     "data": {
      "application/vnd.jupyter.widget-view+json": {
       "model_id": "b7e160046fb641cb8ab525eb968db721",
       "version_major": 2,
       "version_minor": 0
      },
      "text/plain": [
       "HBox(children=(IntProgress(value=0, max=8966), HTML(value='')))"
      ]
     },
     "metadata": {},
     "output_type": "display_data"
    },
    {
     "name": "stdout",
     "output_type": "stream",
     "text": [
      "Finished in 5189.6411962509155 seconds.\n"
     ]
    }
   ],
   "source": [
    "from tqdm import tqdm_notebook\n",
    "\n",
    "all_business_ids = list(business_df['business_id'])\n",
    "num_businesses = len(all_business_ids)\n",
    "num_users = len(top_users)\n",
    "print('Loading reviews table...')\n",
    "review = pd.read_csv('yelp-dataset/yelp_review.csv')\n",
    "print('done.')\n",
    "\n",
    "# Generate user-business matrix, where entries are:\n",
    "# * binary matrix = 1 if user rated the business with 4+ stars, and 0 otherwise\n",
    "# * multi matrix = raw star rating\n",
    "print('Generating use-business matrix...')\n",
    "start = time.time()\n",
    "user_business_mat_binary = np.zeros((num_users, num_businesses), dtype=np.float32)\n",
    "user_business_mat_multi = np.zeros((num_users, num_businesses), dtype=np.float32)\n",
    "\n",
    "for user_index, user_id in enumerate(tqdm_notebook(top_users)):\n",
    "    reviews_for_user = review[review['user_id'] == user_id]\n",
    "    for row_idx, row in reviews_for_user.iterrows():\n",
    "        if row['business_id'] in all_business_ids:\n",
    "            business_index = all_business_ids.index(row['business_id'])\n",
    "            stars = float(row['stars'])\n",
    "            user_business_mat_multi[user_index, business_index] = np.float32(stars)\n",
    "            if stars >= 4:\n",
    "                user_business_mat_binary[user_index, business_index] = 1\n",
    "            else:\n",
    "                user_business_mat_binary[user_index, business_index] = 0\n",
    "\n",
    "# Free memory\n",
    "del review\n",
    "print(\"Finished in \" + str(time.time() - start) + ' seconds.')"
   ]
  },
  {
   "cell_type": "code",
   "execution_count": 409,
   "metadata": {},
   "outputs": [
    {
     "name": "stdout",
     "output_type": "stream",
     "text": [
      "Found 22581 businesses with reviews.\n",
      "Found 17238 businesses with 4-5 stars reviews.\n",
      "Filtering businesses without reviews...\n"
     ]
    },
    {
     "data": {
      "application/vnd.jupyter.widget-view+json": {
       "model_id": "546ddefafa8c471abee928ef9b16f8aa",
       "version_major": 2,
       "version_minor": 0
      },
      "text/plain": [
       "HBox(children=(IntProgress(value=0, max=50000), HTML(value='')))"
      ]
     },
     "metadata": {},
     "output_type": "display_data"
    }
   ],
   "source": [
    "# Filter out businesses that have no reviews at all\n",
    "reviews_per_biz_binary = np.sum(user_business_mat_binary, axis=0)\n",
    "reviews_per_biz_multi = np.sum(user_business_mat_multi, axis=0)\n",
    "\n",
    "print('Found ' + str(np.count_nonzero(reviews_per_biz_multi)) + ' businesses with reviews.')\n",
    "print('Found ' + str(np.count_nonzero(reviews_per_biz_binary)) + ' businesses with 4-5 stars reviews.')\n",
    "\n",
    "filtered_user_business_mat_binary = np.zeros((num_users, np.count_nonzero(reviews_per_biz_binary)))\n",
    "filtered_user_business_mat_multi = np.zeros((num_users, np.count_nonzero(reviews_per_biz_multi)))\n",
    "filtered_businesses_binary = []\n",
    "filtered_businesses_multi = []\n",
    "filtered_index_binary = 0\n",
    "filtered_index_multi = 0\n",
    "\n",
    "print('Filtering businesses without reviews...')\n",
    "for biz_index, biz_id in enumerate(tqdm_notebook(all_business_ids)):\n",
    "    if reviews_per_biz_binary[biz_index] > 0:\n",
    "        filtered_user_business_mat_binary[:, filtered_index_binary] = user_business_mat_binary[:, biz_index]\n",
    "        filtered_businesses_binary.append(biz_id)\n",
    "        filtered_index_binary += 1\n",
    "    if reviews_per_biz_multi[biz_index] > 0:\n",
    "        filtered_user_business_mat_multi[:, filtered_index_multi] = user_business_mat_multi[:, biz_index]\n",
    "        filtered_businesses_multi.append(biz_id)\n",
    "        filtered_index_multi += 1\n"
   ]
  },
  {
   "cell_type": "code",
   "execution_count": 484,
   "metadata": {},
   "outputs": [
    {
     "name": "stdout",
     "output_type": "stream",
     "text": [
      "Populating datasets for collaborative filtering...\n"
     ]
    },
    {
     "data": {
      "application/vnd.jupyter.widget-view+json": {
       "model_id": "b6a4aa5ae7ea41289be8ba64fae5be16",
       "version_major": 2,
       "version_minor": 0
      },
      "text/plain": [
       "HBox(children=(IntProgress(value=0, max=113406), HTML(value='')))"
      ]
     },
     "metadata": {},
     "output_type": "display_data"
    },
    {
     "name": "stdout",
     "output_type": "stream",
     "text": [
      "Done.\n"
     ]
    }
   ],
   "source": [
    "from surprise import Dataset\n",
    "from surprise.reader import Reader\n",
    "\n",
    "ratings_dict_multi = {'itemID': [], 'userID': [], 'rating': []}\n",
    "\n",
    "print('Populating datasets for collaborative filtering...')\n",
    "\n",
    "# Star matrix\n",
    "non_zero_indexes_multi = np.nonzero(filtered_user_business_mat_multi)\n",
    "num_pos_indexes = len(non_zero_indexes_multi[0])\n",
    "for idx in tqdm_notebook(range(num_pos_indexes)):\n",
    "    user_id = top_users[non_zero_indexes_multi[0][idx]]\n",
    "    biz_id = filtered_businesses_multi[non_zero_indexes_multi[1][idx]]\n",
    "    rating = filtered_user_business_mat_multi[non_zero_indexes_multi[0][idx], non_zero_indexes_multi[1][idx]]\n",
    "    ratings_dict_multi['itemID'].append(user_id)\n",
    "    ratings_dict_multi['userID'].append(biz_id)\n",
    "    ratings_dict_multi['rating'].append(rating)\n",
    "\n",
    "df_multi = pd.DataFrame(ratings_dict_multi)\n",
    "print('Done.')"
   ]
  },
  {
   "cell_type": "code",
   "execution_count": 487,
   "metadata": {},
   "outputs": [
    {
     "name": "stdout",
     "output_type": "stream",
     "text": [
      "Data size = 113406\n",
      "Heldout size = 22681\n"
     ]
    }
   ],
   "source": [
    "dataset_size = len(df_multi)\n",
    "heldout_proportion = 0.2\n",
    "heldout_size = int(dataset_size * heldout_proportion)\n",
    "print('Data size = ' + str(dataset_size))\n",
    "print('Heldout size = ' + str(heldout_size))\n",
    "\n",
    "# Keep heldout\n",
    "train_df = df_multi[:heldout_size]\n",
    "heldout_df = df_multi[heldout_size:]\n",
    "\n",
    "heldout_set = Dataset.load_from_df(heldout_df[['userID', 'itemID', 'rating']], reader=Reader(rating_scale=(1,5)))\n",
    "train_set = Dataset.load_from_df(train_df[['userID', 'itemID', 'rating']], reader=Reader(rating_scale=(1,5)))\n",
    "\n"
   ]
  },
  {
   "cell_type": "markdown",
   "metadata": {},
   "source": [
    "## Collaborative Filtering Model Selection\n",
    "Here we try several collaborative filtering models.\n",
    "We test each model using 5-fold cross validation, and measure its performance with RMSE (root mean square of error, the standard for regression problems) and FCP (fraction of concordant pairs, as suggested by Koren & Sill in \"Collaborative Filtering on Ordinal User Feedback\", 2011). We also measure variance over folds, since smaller variance might suggest better generalization to the heldout set."
   ]
  },
  {
   "cell_type": "code",
   "execution_count": 475,
   "metadata": {},
   "outputs": [
    {
     "data": {
      "application/vnd.jupyter.widget-view+json": {
       "model_id": "c2a950efa3914541a34850829f309af8",
       "version_major": 2,
       "version_minor": 0
      },
      "text/plain": [
       "HBox(children=(IntProgress(value=1, bar_style='info', max=1), HTML(value='')))"
      ]
     },
     "metadata": {},
     "output_type": "display_data"
    },
    {
     "name": "stdout",
     "output_type": "stream",
     "text": [
      "@@@ Evaluating model = Random @@@\n",
      "@@@ Evaluating model = KNN Basic @@@\n",
      "Computing the msd similarity matrix...\n",
      "Done computing similarity matrix.\n",
      "Computing the msd similarity matrix...\n",
      "Done computing similarity matrix.\n",
      "Computing the msd similarity matrix...\n",
      "Done computing similarity matrix.\n",
      "Computing the msd similarity matrix...\n",
      "Done computing similarity matrix.\n",
      "Computing the msd similarity matrix...\n",
      "Done computing similarity matrix.\n",
      "@@@ Evaluating model = KNN+means @@@\n",
      "Computing the msd similarity matrix...\n",
      "Done computing similarity matrix.\n",
      "Computing the msd similarity matrix...\n",
      "Done computing similarity matrix.\n",
      "Computing the msd similarity matrix...\n",
      "Done computing similarity matrix.\n",
      "Computing the msd similarity matrix...\n",
      "Done computing similarity matrix.\n",
      "Computing the msd similarity matrix...\n",
      "Done computing similarity matrix.\n",
      "@@@ Evaluating model = SVD @@@\n",
      "@@@ Evaluating model = SVD++ @@@\n",
      "@@@ Evaluating model = NMF @@@\n",
      "@@@ Evaluating model = SlopeOne @@@\n",
      "@@@ Evaluating model = Co-Clustering @@@\n",
      "Done.\n"
     ]
    }
   ],
   "source": [
    "from surprise.prediction_algorithms import NormalPredictor, KNNBasic, KNNWithMeans, SVD, SVDpp, NMF, SlopeOne, CoClustering\n",
    "from surprise.model_selection import cross_validate\n",
    "cross_validation_results = []\n",
    "\n",
    "models = [NormalPredictor(), KNNBasic(), KNNWithMeans(), SVD(), SVDpp(), NMF(), SlopeOne(), CoClustering()]\n",
    "model_names = ['Random', 'KNN Basic', 'KNN+means', 'SVD', 'SVD++', 'NMF', 'SlopeOne', 'Co-Clustering']\n",
    "for idx, model in tqdm_notebook(enumerate(models)):\n",
    "    print('@@@ Evaluating model = ' + model_names[idx] + ' @@@')\n",
    "    res = cross_validate(model, train_set, cv=5, measures=['rmse', 'fcp'])\n",
    "    cross_validation_results.append(res)\n",
    "print('Done.')\n",
    "    "
   ]
  },
  {
   "cell_type": "code",
   "execution_count": 474,
   "metadata": {},
   "outputs": [
    {
     "name": "stdout",
     "output_type": "stream",
     "text": [
      "           Model  RMSE mean  RMSE var  FCP mean   FCP var\n",
      "3            SVD   0.981460  0.000206  0.505305  0.000029\n",
      "4          SVD++   0.983146  0.000074  0.509970  0.000474\n",
      "1      KNN Basic   1.086229  0.000254  0.557916  0.000116\n",
      "7  Co-Clustering   1.091213  0.000091  0.531447  0.000220\n",
      "2      KNN+means   1.095805  0.000159  0.573819  0.000261\n",
      "6       SlopeOne   1.128169  0.000238  0.578748  0.000083\n",
      "5            NMF   1.132722  0.000165  0.547838  0.000241\n",
      "0         Random   1.400291  0.000080  0.498035  0.000350\n"
     ]
    }
   ],
   "source": [
    "rmse_means = []\n",
    "rmse_vars = []\n",
    "fcp_means = []\n",
    "fcp_vars = []\n",
    "\n",
    "for idx, result in enumerate(cross_validation_results):\n",
    "    rmse_means.append(np.mean(result['test_rmse']))\n",
    "    rmse_vars.append(np.var(result['test_rmse']))\n",
    "    fcp_means.append(np.mean(result['test_fcp']))\n",
    "    fcp_vars.append(np.var(result['test_fcp']))\n",
    "\n",
    "collab_results_df = pd.DataFrame({'Model':model_names,'RMSE mean':rmse_means, 'RMSE var':rmse_vars, 'FCP mean':fcp_means, 'FCP var':fcp_vars})\n",
    "collab_results_df = collab_results_df[['Model', 'RMSE mean', 'RMSE var', 'FCP mean', 'FCP var']].sort_values(by='RMSE mean')\n",
    "print(collab_results_df)"
   ]
  },
  {
   "cell_type": "markdown",
   "metadata": {},
   "source": [
    "Clearly, the SVD model (a.k.a. Netflix Prize) has the best RMSE score, but SlopeOne has the best FCP (in the FCP score, higher is better). How should we choose?"
   ]
  },
  {
   "cell_type": "code",
   "execution_count": 482,
   "metadata": {},
   "outputs": [
    {
     "name": "stdout",
     "output_type": "stream",
     "text": [
      " --- SVD ---\n",
      "RMSE: 0.9921\n",
      "FCP:  0.1520\n",
      " --- SlopeOne ---\n",
      "RMSE: 1.0238\n",
      "FCP:  0.1520\n"
     ]
    },
    {
     "data": {
      "text/plain": [
       "0.15201013729743312"
      ]
     },
     "execution_count": 482,
     "metadata": {},
     "output_type": "execute_result"
    }
   ],
   "source": [
    "from surprise.accuracy import rmse, fcp\n",
    "\n",
    "model_svd = models[3]\n",
    "model_slopeone = models[6]\n",
    "\n",
    "full_train_set = train_set.build_full_trainset()\n",
    "full_heldout_set = heldout_set.build_full_trainset().build_testset()\n",
    "\n",
    "model_svd.fit(full_train_set)\n",
    "model_slopeone.fit(full_train_set)\n",
    "\n",
    "preds_svd = model_svd.test(full_heldout_set)\n",
    "preds_slopeone = model_slopeone.test(full_heldout_set)\n",
    "print(' --- SVD ---')\n",
    "rmse(preds_svd)\n",
    "fcp(preds_svd)\n",
    "print(' --- SlopeOne ---')\n",
    "rmse(preds_slopeone)\n",
    "fcp(preds_slopeone)\n",
    "\n"
   ]
  },
  {
   "cell_type": "markdown",
   "metadata": {},
   "source": [
    "Turns out, SVD outperforms SlopeOne on the heldout set. So this is the chosen model."
   ]
  },
  {
   "cell_type": "markdown",
   "metadata": {},
   "source": [
    "### Alternative Metrics\n",
    "If you can't improve the model, improve the metrics! :)\n",
    "Since we're only interested in locating users that will give us high star rating, let's binarize the evaluation: set a threshold (say, 4 stars), and assign correct hit if both predicted score and true star rating were >= 4. Here we evaluated two thresholds - 3 and 4."
   ]
  },
  {
   "cell_type": "code",
   "execution_count": 514,
   "metadata": {},
   "outputs": [
    {
     "name": "stdout",
     "output_type": "stream",
     "text": [
      "Accuracy using threshold 3 = 0.8719867732157619\n",
      "Accuracy using threshold 4 = 0.42465693028382473\n"
     ]
    }
   ],
   "source": [
    "def eval_model_on_heldout(trained_model):\n",
    "    thresh_3_correct = 0\n",
    "    thresh_3_incorrect = 0\n",
    "    thresh_4_correct = 0\n",
    "    thresh_4_incorrect = 0\n",
    "\n",
    "    for row_idx, row in heldout_df.iterrows():\n",
    "        uid = row['userID']\n",
    "        iid = row['itemID']\n",
    "        gt_stars = row['rating']  # ground truth\n",
    "        prediction = trained_model.predict(uid, iid, clip=True).est\n",
    "        if gt_stars >= 3 and prediction >= 3:\n",
    "            thresh_3_correct += 1\n",
    "        elif gt_stars < 3 and prediction < 3:\n",
    "            thresh_3_correct += 1\n",
    "        else:\n",
    "            thresh_3_incorrect +=1\n",
    "\n",
    "        if gt_stars >= 4 and prediction >= 4:\n",
    "            thresh_4_correct += 1\n",
    "        elif gt_stars < 4 and prediction < 4:\n",
    "            thresh_4_correct += 1\n",
    "        else:\n",
    "            thresh_4_incorrect += 1\n",
    "\n",
    "    print('Accuracy using threshold 3 = ' + str(thresh_3_correct / (thresh_3_correct + thresh_3_incorrect)))\n",
    "    print('Accuracy using threshold 4 = ' + str(thresh_4_correct / (thresh_4_correct + thresh_4_incorrect)))\n",
    "\n",
    "eval_model_on_heldout(model_svd)"
   ]
  },
  {
   "cell_type": "markdown",
   "metadata": {},
   "source": [
    "So we have a 42% chance of correctly predicting a user rating, in a binary scale of high (4-5 stars) vs. low (1-3 stars). What if we also binarize training data?"
   ]
  },
  {
   "cell_type": "code",
   "execution_count": 501,
   "metadata": {
    "collapsed": true
   },
   "outputs": [],
   "source": [
    "binary_train_df = train_df.copy()\n",
    "binary_train_df['rating'] = binary_train_df['rating'].replace([1.0, 2.0, 3.0], 1)\n",
    "binary_train_df['rating'] = binary_train_df['rating'].replace([4.0, 5.0], 5)\n",
    "train_set_binary = Dataset.load_from_df(train_df[['userID', 'itemID', 'rating']], reader=Reader(rating_scale=(1,5)))"
   ]
  },
  {
   "cell_type": "code",
   "execution_count": 505,
   "metadata": {},
   "outputs": [
    {
     "data": {
      "application/vnd.jupyter.widget-view+json": {
       "model_id": "3340e005fa254b78b1d10c6a0d9987a8",
       "version_major": 2,
       "version_minor": 0
      },
      "text/plain": [
       "HBox(children=(IntProgress(value=1, bar_style='info', max=1), HTML(value='')))"
      ]
     },
     "metadata": {},
     "output_type": "display_data"
    },
    {
     "name": "stdout",
     "output_type": "stream",
     "text": [
      "@@@ Evaluating model = Random @@@\n",
      "@@@ Evaluating model = KNN Basic @@@\n",
      "Computing the msd similarity matrix...\n",
      "Done computing similarity matrix.\n",
      "Computing the msd similarity matrix...\n",
      "Done computing similarity matrix.\n",
      "Computing the msd similarity matrix...\n",
      "Done computing similarity matrix.\n",
      "Computing the msd similarity matrix...\n",
      "Done computing similarity matrix.\n",
      "Computing the msd similarity matrix...\n",
      "Done computing similarity matrix.\n",
      "@@@ Evaluating model = KNN+means @@@\n",
      "Computing the msd similarity matrix...\n",
      "Done computing similarity matrix.\n",
      "Computing the msd similarity matrix...\n",
      "Done computing similarity matrix.\n",
      "Computing the msd similarity matrix...\n",
      "Done computing similarity matrix.\n",
      "Computing the msd similarity matrix...\n",
      "Done computing similarity matrix.\n",
      "Computing the msd similarity matrix...\n",
      "Done computing similarity matrix.\n",
      "@@@ Evaluating model = SVD @@@\n",
      "@@@ Evaluating model = SVD++ @@@\n",
      "@@@ Evaluating model = NMF @@@\n",
      "@@@ Evaluating model = SlopeOne @@@\n",
      "@@@ Evaluating model = Co-Clustering @@@\n",
      "Done.\n",
      "           Model  RMSE mean  RMSE var  FCP mean   FCP var\n",
      "4          SVD++   0.980864  0.000021  0.517457  0.000385\n",
      "3            SVD   0.982865  0.000073  0.504613  0.000202\n",
      "1      KNN Basic   1.085945  0.000010  0.549656  0.000078\n",
      "7  Co-Clustering   1.090180  0.000165  0.532315  0.000133\n",
      "2      KNN+means   1.099200  0.000137  0.560262  0.000130\n",
      "6       SlopeOne   1.129398  0.000039  0.583372  0.000334\n",
      "5            NMF   1.135524  0.000075  0.546012  0.000344\n",
      "0         Random   1.412027  0.000127  0.496608  0.000695\n"
     ]
    }
   ],
   "source": [
    "models_binary = [NormalPredictor(), KNNBasic(), KNNWithMeans(), SVD(), SVDpp(), NMF(), SlopeOne(), CoClustering()]\n",
    "cross_validation_results = []\n",
    "for idx, model in tqdm_notebook(enumerate(models_binary)):\n",
    "    print('@@@ Evaluating model = ' + model_names[idx] + ' @@@')\n",
    "    res = cross_validate(model, train_set_binary, cv=5, measures=['rmse', 'fcp'])\n",
    "    cross_validation_results.append(res)\n",
    "print('Done.')\n",
    "\n",
    "rmse_means = []\n",
    "rmse_vars = []\n",
    "fcp_means = []\n",
    "fcp_vars = []\n",
    "\n",
    "for idx, result in enumerate(cross_validation_results):\n",
    "    rmse_means.append(np.mean(result['test_rmse']))\n",
    "    rmse_vars.append(np.var(result['test_rmse']))\n",
    "    fcp_means.append(np.mean(result['test_fcp']))\n",
    "    fcp_vars.append(np.var(result['test_fcp']))\n",
    "\n",
    "collab_results_df = pd.DataFrame({'Model':model_names,'RMSE mean':rmse_means, 'RMSE var':rmse_vars, 'FCP mean':fcp_means, 'FCP var':fcp_vars})\n",
    "collab_results_df = collab_results_df[['Model', 'RMSE mean', 'RMSE var', 'FCP mean', 'FCP var']].sort_values(by='RMSE mean')\n",
    "print(collab_results_df)"
   ]
  },
  {
   "cell_type": "code",
   "execution_count": 515,
   "metadata": {},
   "outputs": [
    {
     "name": "stdout",
     "output_type": "stream",
     "text": [
      "Accuracy using threshold 3 = 0.8730559382750069\n",
      "Accuracy using threshold 4 = 0.43434554973821987\n"
     ]
    }
   ],
   "source": [
    "model_svdpp_binary = models_binary[4]\n",
    "eval_model_on_heldout(model_svdpp_binary)"
   ]
  },
  {
   "cell_type": "markdown",
   "metadata": {},
   "source": [
    "Results are improved on the heldout set! from 42.47% to 43.43% when splitting star ratings into 12 vs. 345, and from 87.20% to 87.31% when splitting star ratings into 123 vs. 45. We conclude that in our use-case of predicting high rating from a user, transforming the training data into two classes (instead of 5) yields better results. Next step - refine parameters witha grid search."
   ]
  },
  {
   "cell_type": "code",
   "execution_count": 510,
   "metadata": {
    "collapsed": true
   },
   "outputs": [],
   "source": [
    "from surprise.model_selection import GridSearchCV\n",
    "\n",
    "param_grid = {'n_factors':[20, 40, 100], \n",
    "              'n_epochs':[20, 30], \n",
    "              'lr_all': [0.002, 0.005, 0.007], \n",
    "              'reg_all': [0.02, 0.04]}\n",
    "gs = GridSearchCV(SVDpp, param_grid, measures=['rmse', 'mae', 'fcp'], cv=3)\n",
    "gs.fit(train_set_binary)\n"
   ]
  },
  {
   "cell_type": "code",
   "execution_count": 512,
   "metadata": {},
   "outputs": [
    {
     "name": "stdout",
     "output_type": "stream",
     "text": [
      "0.9824569465255476\n",
      "{'n_factors': 20, 'n_epochs': 20, 'lr_all': 0.005, 'reg_all': 0.04}\n"
     ]
    }
   ],
   "source": [
    "print(gs.best_score['rmse'])\n",
    "print(gs.best_params['rmse'])"
   ]
  },
  {
   "cell_type": "code",
   "execution_count": 513,
   "metadata": {},
   "outputs": [
    {
     "name": "stdout",
     "output_type": "stream",
     "text": [
      "0.5149381198320596\n",
      "{'n_factors': 40, 'n_epochs': 20, 'lr_all': 0.005, 'reg_all': 0.04}\n"
     ]
    }
   ],
   "source": [
    "print(gs.best_score['fcp'])\n",
    "print(gs.best_params['fcp'])"
   ]
  },
  {
   "cell_type": "code",
   "execution_count": 519,
   "metadata": {},
   "outputs": [
    {
     "name": "stdout",
     "output_type": "stream",
     "text": [
      "Accuracy using threshold 3 = 0.8711600992008818\n",
      "Accuracy using threshold 4 = 0.4263764122347754\n"
     ]
    }
   ],
   "source": [
    "model_svdpp_binary_best_params = SVDpp(n_factors=40, n_epochs=20, lr_all=0.005, reg_all=0.04)\n",
    "model_svdpp_binary_best_params.fit(train_set_binary.build_full_trainset())\n",
    "eval_model_on_heldout(model_svdpp_binary_best_params)"
   ]
  },
  {
   "cell_type": "markdown",
   "metadata": {},
   "source": [
    "We conclude that training and SVDpp model with the params we found using grid search did not improve results."
   ]
  },
  {
   "cell_type": "markdown",
   "metadata": {},
   "source": [
    "### Collaborative Filtering - Alternative Similarity Methods\n",
    "We implemented collaborative filtering based on user-item matrices (user-business in our case) using cosine, jaccard and pearson similarity to predict a restaurant review by a given user, based on the user similarity to other users who reviewed the chosen restaurant.\n",
    "\n",
    "In order to make our data easier to process, we decided to focus on restaurants that serve Pizza in Las-Vegas (simply because Vegas has the most Pizza places in the Yelp database... ).\n",
    "\n",
    "After creating the similarity matrices between all the users in our db, based on the different similarity functions, we used KNN in order to predict the number of stars the chosen user will give to the restaurant.\n",
    "\n",
    "In the upcoming part, we also used sqlite db and loaded all the data into it, we found out that in some cases it is much easier (and sometimes faster) to work with.\n",
    "The db is saved in the file yelp.db, which is way to big to be included in our repository (6GB).\n",
    "Also, we dumped most of the data using pickle to save time."
   ]
  },
  {
   "cell_type": "code",
   "execution_count": 3,
   "metadata": {
    "collapsed": true
   },
   "outputs": [],
   "source": [
    "# Imports and loading of pickle files.\n",
    "# In order to create those files,\n",
    "# the block with the matrices creation should contain all the dumping functions\n",
    "import sqlite3\n",
    "import numpy as np\n",
    "import scipy.spatial\n",
    "from scipy.sparse import *\n",
    "import scipy.stats\n",
    "import pickle\n",
    "import time\n",
    "import math\n",
    "import random\n",
    "\n",
    "connection = sqlite3.connect(\"yelp.db\")\n",
    "cursor = connection.cursor()\n",
    "\n",
    "users_dict = pickle.load(open('users_ids_dict', 'rb'))\n",
    "user_similarity_cosine = pickle.load(open('user_similarity_cosine_matrix', 'rb'))\n",
    "user_similarity_jaccard = pickle.load(open('user_similarity_jaccard_matrix', 'rb'))\n",
    "user_similarity_pearson = pickle.load(open('user_similarity_pearson_matrix', 'rb'))\n",
    "test = pickle.load(open('user_similarity_test_reviews', 'rb'))"
   ]
  },
  {
   "cell_type": "markdown",
   "metadata": {},
   "source": [
    "Data was split to train and test sets by 80-20, and shuffled."
   ]
  },
  {
   "cell_type": "code",
   "execution_count": 4,
   "metadata": {
    "collapsed": true
   },
   "outputs": [],
   "source": [
    "def split_train_test():\n",
    "    reviews = cursor.execute('SELECT business_id,user_id,stars,useful FROM review').fetchall()\n",
    "\n",
    "    random.shuffle(reviews)\n",
    "\n",
    "    # split to train-test by 80-20\n",
    "    train = reviews[: int(len(reviews) * .80)]\n",
    "    test = reviews[int(len(reviews) * .80):]\n",
    "\n",
    "    return train, test"
   ]
  },
  {
   "cell_type": "markdown",
   "metadata": {},
   "source": [
    "Creating the users similarity matrices, based on cosine, Jaccard and Pearson similarity measures.\n",
    "For each user, we calculate the similarity with every other user based on how the users rated all the restaurants, calculated with the similarity measures, we get the similarity between user i and user j in the cell (i,j) in the similarity matrix.\n",
    "\n",
    "We created three different matrices, one for each similarity measure in order to see which on of them will be the most accurate."
   ]
  },
  {
   "cell_type": "code",
   "execution_count": 5,
   "metadata": {
    "collapsed": true
   },
   "outputs": [],
   "source": [
    "def create_user_similarity_matrices(reviews):\n",
    "    users = cursor.execute('SELECT user_id FROM user ORDER BY user_id').fetchall()\n",
    "    businesses = cursor.execute('SELECT id FROM business').fetchall()\n",
    "\n",
    "    # create empty matrices\n",
    "    user_business_matrix = np.zeros((len(users), len(businesses)))\n",
    "    user_similarity_cosine = np.zeros((len(users), len(users)))\n",
    "    user_similarity_jaccard = np.zeros((len(users), len(users)))\n",
    "    user_similarity_pearson = np.zeros((len(users), len(users)))\n",
    "\n",
    "    # save business and user ids in dictionaries for later use\n",
    "    users_ids = dict()\n",
    "    businesses_ids = dict()\n",
    "    for i in range(len(users)):\n",
    "        users_ids[users[i][0]] = i\n",
    "\n",
    "    for i in range(len(businesses)):\n",
    "        businesses_ids[businesses[i][0]] = i\n",
    "\n",
    "    pickle.dump(users_ids, open('users_ids_dict', 'wb'))\n",
    "    pickle.dump(businesses_ids, open('businnesses_ids_dict', 'wb'))\n",
    "\n",
    "    # adding rating to the matrix\n",
    "    for review in reviews:\n",
    "        user_id = users_ids[review[1]]\n",
    "        business_id = businesses_ids[review[0]]\n",
    "        user_business_matrix[user_id][business_id] = review[2]\n",
    "\n",
    "    pickle.dump(user_business_matrix, open('user_business_matrix', 'wb'))\n",
    "\n",
    "    print('Number of users:', len(users))\n",
    "    print('Number of reviews:', len(reviews))\n",
    "    start = time.time()\n",
    "\n",
    "    # create similarity matrices using cosine,jaccard and pearson similarity\n",
    "    for user1 in users_ids.keys():\n",
    "        user1_id = users_ids[user1]\n",
    "\n",
    "        for user2 in users_ids.keys():\n",
    "            user2_id = users_ids[user2]\n",
    "            if np.count_nonzero(user_business_matrix[user1_id]) and np.count_nonzero(user_business_matrix[user2_id]):\n",
    "                user_similarity_cosine[user1_id][user2_id] = 1 - scipy.spatial.distance.cosine(\n",
    "                    user_business_matrix[user1_id],\n",
    "                    user_business_matrix[user2_id])\n",
    "                user_similarity_jaccard[user1_id][user2_id] = 1 - scipy.spatial.distance.jaccard(\n",
    "                    user_business_matrix[user1_id],\n",
    "                    user_business_matrix[user2_id])\n",
    "                try:\n",
    "                    if not math.isnan(\n",
    "                            scipy.stats.pearsonr(user_business_matrix[user1_id], user_business_matrix[user2_id])[0]):\n",
    "                        user_similarity_pearson[user1_id][user2_id] = \\\n",
    "                            scipy.stats.pearsonr(user_business_matrix[user1_id], user_business_matrix[user2_id])[0]\n",
    "                    else:\n",
    "                        user_similarity_pearson[user1_id][user2_id] = 0\n",
    "                except:\n",
    "                    user_similarity_pearson[user1_id][user2_id] = 0\n",
    "\n",
    "    return user_similarity_cosine, user_similarity_jaccard, user_similarity_pearson\n"
   ]
  },
  {
   "cell_type": "markdown",
   "metadata": {},
   "source": [
    "We used KNN in order to predict the rating: given a review from the test set, we try to predict its rating.\n",
    "We average the review of the top K similar users, with K of 3, 5 and 7.\n",
    "This average is rounder up or down as needed.\n",
    "We measure ourselves with accuracy- a difference of more than 1 stars was considered an error."
   ]
  },
  {
   "cell_type": "code",
   "execution_count": 6,
   "metadata": {
    "collapsed": true
   },
   "outputs": [],
   "source": [
    "def prediction(matrix, k, review):\n",
    "    top_k_users = []\n",
    "\n",
    "    business_reviews = cursor.execute(\n",
    "        '''SELECT business_id,user_id,stars,useful FROM review where business_id='{0}' '''.format(review[0])).fetchall()\n",
    "    review_users = [review[:3] for review in business_reviews]\n",
    "\n",
    "    # get chosen user data ( user from given review )\n",
    "    user_index = users_dict[review[1]]\n",
    "    users_matrix_col = matrix[user_index]\n",
    "\n",
    "    # find matrix row index for each user that reviewed this business\n",
    "    similar_users = []\n",
    "    for user in review_users:\n",
    "        if user[1] in users_dict.keys():\n",
    "            similar_users.append((users_dict[user[1]], user[2]))\n",
    "\n",
    "    # get rating for each index and argsort\n",
    "    similar_users_similarity = []\n",
    "    for user in similar_users:\n",
    "        similar_users_similarity.append(users_matrix_col[user[0]])\n",
    "    top_k_indexes = np.argsort(similar_users_similarity)[-(k + 1):][::-1]\n",
    "\n",
    "    # Not enough users that reviewed this business...\n",
    "    if len(top_k_indexes) <= k:\n",
    "        return 0\n",
    "\n",
    "    for i in range(1, k + 1):\n",
    "        user = similar_users[top_k_indexes[i]]\n",
    "        top_k_users.append(user)\n",
    "\n",
    "    # try to predict review by average all K users rating\n",
    "    sum = 0\n",
    "    for i in range(k):\n",
    "        rating = top_k_users[i][1]\n",
    "        sum += rating\n",
    "\n",
    "    sum = sum / k\n",
    "    diff = sum - math.floor(sum)\n",
    "    if diff >= 0.5:\n",
    "        sum = int(sum + (1 - diff))\n",
    "    else:\n",
    "        sum = int(math.floor(sum))\n",
    "\n",
    "    return sum\n"
   ]
  },
  {
   "cell_type": "code",
   "execution_count": 7,
   "metadata": {
    "collapsed": true
   },
   "outputs": [],
   "source": [
    "def knn(k):\n",
    "    cosine_error = 0\n",
    "    jaccard_error = 0\n",
    "    pearson_error = 0\n",
    "    \n",
    "    # if review has less than k u\n",
    "    invalid_reviews_cosine=0\n",
    "    invalid_reviews_jaccard=0\n",
    "    invalid_reviews_pearson=0\n",
    "\n",
    "    for review in test:\n",
    "       \n",
    "        pred_cosine = prediction(user_similarity_cosine, k, review)\n",
    "        pred_jaccard = prediction(user_similarity_jaccard, k, review)\n",
    "        pred_pearson = prediction(user_similarity_pearson, k, review)\n",
    "        \n",
    "        if pred_cosine==0:\n",
    "            invalid_reviews_cosine+=1  \n",
    "        elif abs(review[2] - pred_cosine) > 1:\n",
    "            cosine_error += 1\n",
    "        \n",
    "        if pred_jaccard==0:\n",
    "            invalid_reviews_jaccard+=1\n",
    "        elif abs(review[2] - pred_jaccard) > 1:\n",
    "            jaccard_error += 1\n",
    "        \n",
    "        if pred_pearson==0:\n",
    "            invalid_reviews_pearson+=1\n",
    "        elif abs(review[2] - pred_pearson) > 1:\n",
    "            pearson_error += 1\n",
    "\n",
    "    return cosine_error / (len(test)-invalid_reviews_cosine), jaccard_error / (len(test)-invalid_reviews_jaccard), pearson_error / (len(test)-invalid_reviews_pearson)\n"
   ]
  },
  {
   "cell_type": "code",
   "execution_count": 16,
   "metadata": {},
   "outputs": [
    {
     "name": "stdout",
     "output_type": "stream",
     "text": [
      "K=3:\n",
      "Cosine Accuracy (%) 0.7897\n",
      "Jaccard Accuracy (%) 0.7897\n",
      "Pearson Accuracy (%) 0.7844\n",
      "K=5:\n",
      "Cosine Accuracy (%) 0.8252\n",
      "Jaccard Accuracy (%) 0.8204\n",
      "Pearson Accuracy (%) 0.8216\n",
      "K=7:\n",
      "Cosine Accuracy (%) 0.8437\n",
      "Jaccard Accuracy (%) 0.8404\n",
      "Pearson Accuracy (%) 0.8401\n"
     ]
    }
   ],
   "source": [
    "# Main\n",
    "error = 0\n",
    "\n",
    "cosine_3, jaccard_3, pearson_3 = knn(3)\n",
    "cosine_5, jaccard_5, pearson_5 = knn(5)\n",
    "cosine_7, jaccard_7, pearson_7 = knn(7)\n",
    "\n",
    "print('K=3:')\n",
    "print('Cosine Accuracy (%)', round(1 - cosine_3,4))\n",
    "print('Jaccard Accuracy (%)', round(1 - jaccard_3,4))\n",
    "print('Pearson Accuracy (%)', round(1 - pearson_3,4))\n",
    "print('K=5:')\n",
    "print('Cosine Accuracy (%)', round(1 - cosine_5,4))\n",
    "print('Jaccard Accuracy (%)', round(1 - jaccard_5,4))\n",
    "print('Pearson Accuracy (%)', round(1 - pearson_5,4))\n",
    "print('K=7:')\n",
    "print('Cosine Accuracy (%)', round(1 - cosine_7,4))\n",
    "print('Jaccard Accuracy (%)', round(1 - jaccard_7,4))\n",
    "print('Pearson Accuracy (%)', round(1 - pearson_7,4))\n"
   ]
  },
  {
   "cell_type": "markdown",
   "metadata": {},
   "source": [
    "Based on the results, we can see that similarity measures gives us almost the same results in terms of accuracy, altough, where K=7, we get the best results using Cosine similarity."
   ]
  },
  {
   "cell_type": "code",
   "execution_count": null,
   "metadata": {
    "collapsed": true
   },
   "outputs": [],
   "source": [
    "# Run this block to create all the neede pickle files (train-tests and similarity matrices)\n",
    "\n",
    "# train, test = split_train_test()\n",
    "# cosine, jaccard, pearson = create_user_similarity_matrices(train)\n",
    "# pickle.dump(cosine, open('user_similarity_cosine_matrix', 'wb'))\n",
    "# pickle.dump(jaccard, open('user_similarity_jaccard_matrix', 'wb'))\n",
    "# pickle.dump(pearson, open('user_similarity_pearson_matrix', 'wb'))\n",
    "# pickle.dump(test, open('user_similarity_test_reviews', 'wb'))\n"
   ]
  },
  {
   "cell_type": "markdown",
   "metadata": {},
   "source": [
    "### NLP - Using Business/Business Similarity Matrix\n",
    "We also tried using a business/business similarity matrix in the following way: let's say we want to predict how a user will rate us. We search among the other businesses this user rated for the one which is most similar to ours, and hypothesize that the user will rate our business similarly.\n",
    "Similarity between two businesses was determined by concatenating the reviews of each business into a single text document, and then measuring text similarity between the two texts by TF-IDF (after stemming).\n"
   ]
  },
  {
   "cell_type": "code",
   "execution_count": null,
   "metadata": {
    "collapsed": true
   },
   "outputs": [],
   "source": [
    "# Generating business/business similarity matrix\n",
    "from nltk.corpus import stopwords\n",
    "from nltk.stem.snowball import SnowballStemmer\n",
    "import numpy as np\n",
    "import pickle\n",
    "\n",
    "stemmer = SnowballStemmer(\"english\")\n",
    "\n",
    "def load_business_ids(filename):\n",
    "    with open(filename, 'r') as f:\n",
    "        lines = f.readlines()\n",
    "    return [line.strip()[1:-1] for line in lines]\n",
    "\n",
    "\n",
    "def process_review(review):\n",
    "    review = stemmer.stem(review)\n",
    "    return review\n",
    "\n",
    "\n",
    "def load_reviews(filename, limit_set=None, limit=100, process_func=None):\n",
    "    # Load data\n",
    "    reviews = {}\n",
    "    line_count = 0\n",
    "    print('Loading reviews...')\n",
    "    with open(filename, 'r', encoding='utf8') as f:\n",
    "        for line in f:\n",
    "            if limit is None or line_count < limit:\n",
    "                business_id = json.loads(line)['business_id']\n",
    "                if limit_set is not None and business_id not in limit_set:\n",
    "                    continue\n",
    "                review_text = json.loads(line)['text']\n",
    "                if process_func is not None:\n",
    "                    review_text = process_func(review_text)\n",
    "\n",
    "                if business_id in reviews:\n",
    "                    reviews[business_id] = reviews[business_id] + ' ' + review_text\n",
    "                else:\n",
    "                    reviews[business_id] = review_text\n",
    "                line_count += 1\n",
    "            else:\n",
    "                break\n",
    "    result = []\n",
    "    if limit_set is None:\n",
    "        keys = list(reviews.keys())\n",
    "    else:\n",
    "        keys = list(limit_set)\n",
    "\n",
    "    for business_id in keys:\n",
    "        result.append(reviews[business_id])\n",
    "    return result\n",
    "\n",
    "\n",
    "def build_sim_mat_tfidf(reviews):\n",
    "    from sklearn.feature_extraction.text import TfidfVectorizer\n",
    "    vect = TfidfVectorizer(min_df=1)\n",
    "    tfidf = vect.fit_transform(reviews)\n",
    "    return tfidf * tfidf.T\n",
    "\n",
    "# We limit ourselves to a subset of businesses, for performance issues\n",
    "limited_set_ids = load_business_ids('businessIDs.txt')\n",
    "\n",
    "loaded_reviews = load_reviews('yelp-dataset/review.json', limit_set=limit_set_ids, limit=None, process_func=process_review)\n",
    "sim_mat_tfidf = build_sim_mat_tfidf(loaded_reviews)\n"
   ]
  },
  {
   "cell_type": "markdown",
   "metadata": {},
   "source": [
    "We use the businesses similarity matrix to predict a business rating, based on its similarity to another business.\n",
    "For every business, we take the most similar business, and our prediction is the avg. rating of all the users who reviewed the given business and the most similar one. If no users reviewed both, we take the second most similar and so on, until we find a similar business with users who reviewed both of the businesses.\n",
    "\n",
    "We used two evaluation metrics:\n",
    "    1. Accuracy - if the prediction and the actual rating are different by more than 0.5, than we count it as an error. Otherwise, a hit.\n",
    "    2. Binary Accuracy - if the prediction and the actual rating are both on the same side of a threshold (3.5), or are equal - this is a hit. Otherwise, an error.\n",
    "    "
   ]
  },
  {
   "cell_type": "code",
   "execution_count": 15,
   "metadata": {},
   "outputs": [
    {
     "name": "stdout",
     "output_type": "stream",
     "text": [
      "Accuracy: 0.4175627240143369\n",
      "Binary Accuracy: 0.796923076923077\n"
     ]
    }
   ],
   "source": [
    "import pickle\n",
    "import sqlite3\n",
    "import numpy as np\n",
    "\n",
    "connection = sqlite3.connect(\"yelp.db\")\n",
    "cursor = connection.cursor()\n",
    "\n",
    "matrix = pickle.load(open('sim_mat_tfidf.pkl', 'rb')).toarray()\n",
    "\n",
    "businesses = cursor.execute('SELECT id,stars FROM business').fetchall()\n",
    "\n",
    "def find_users_reviewed_business(business_index):\n",
    "    # Find similar business\n",
    "    row = matrix[business_index]\n",
    "    sorted_similarity = np.argsort(row)\n",
    "    similar_index = 0\n",
    "    business_id = businesses[business_index][0]\n",
    "    similar_business_id = businesses[sorted_similarity[similar_index]][0]\n",
    "\n",
    "    users = []\n",
    "\n",
    "    # If no users found, go to the second most similar business and try again\n",
    "    while len(users) == 0 and similar_index < len(businesses) - 1:\n",
    "        similar_index += 1\n",
    "        similar_business_id = businesses[sorted_similarity[similar_index]][0]\n",
    "\n",
    "        # Find all users that reviewed both businesses\n",
    "        data = cursor.execute('''SELECT user_id from review where business_id='{0}'\n",
    "                                      intersect\n",
    "                                      SELECT user_id from review where business_id='{1}' '''\n",
    "                              .format(business_id, similar_business_id)).fetchall()\n",
    "        users = [user[0] for user in data]\n",
    "    \n",
    "    # not enough users that reviewd both businesses\n",
    "    if len(users) == 0:\n",
    "        return -1\n",
    "    avg_stars = cursor.execute('''select avg(stars) from review where business_id='{0}' and user_id in ({1}) '''\n",
    "                               .format(similar_business_id,\n",
    "                                       ', '.join(\"'{0}'\".format(w) for w in users))).fetchone()[0]\n",
    "    # round prediction to .5 or .0\n",
    "    avg_stars = round(avg_stars * 2) / 2\n",
    "    \n",
    "    # bad prediction\n",
    "    if abs(avg_stars - float(businesses[business_index][1])) > 0.5:\n",
    "        return 1\n",
    "    return 0\n",
    "\n",
    "# Main\n",
    "err = 0\n",
    "results = []\n",
    "# bussinesses that we could not find any similar business with users who reviewed both\n",
    "not_enough_users_count = 0\n",
    "\n",
    "for index in range(len(businesses)):\n",
    "    results.append(find_users_reviewed_business(index))\n",
    "    if results[index] > 0:\n",
    "        err += 1\n",
    "    if results[index] == -1:\n",
    "        not_enough_users_count+=1\n",
    "\n",
    "err = err / (len(businesses)-not_enough_users_count)\n",
    "\n",
    "pickle.dump(results, open('results', 'wb'))\n",
    "print(\"Accuracy:\", 1 - err)\n",
    "\n",
    "threshold_count = 0\n",
    "total = 0\n",
    "for index in range(len(businesses)):\n",
    "    if results[index] == businesses[index][1] or (results[index] > 3.5 and businesses[index][1] > 3.5) or (\n",
    "                    results[index] < 3.5 and businesses[index][1] < 3.5):\n",
    "        threshold_count += 1\n",
    "    if results[index] > 0:\n",
    "        total+=1\n",
    "print(\"Binary Accuracy:\", threshold_count / total)\n"
   ]
  },
  {
   "cell_type": "markdown",
   "metadata": {},
   "source": [
    "We conclude that using TF-IDF based similarity matrix, gives us kind of poor results in terms of accuracy, but using binary accuracy shows us results similar to the previous results shown in the Collaborative filtering using cosine/jaccard/pearson similarities."
   ]
  },
  {
   "cell_type": "code",
   "execution_count": null,
   "metadata": {
    "collapsed": true
   },
   "outputs": [],
   "source": []
  }
 ],
 "metadata": {
  "kernelspec": {
   "display_name": "Python 3",
   "language": "python",
   "name": "python3"
  },
  "language_info": {
   "codemirror_mode": {
    "name": "ipython",
    "version": 3
   },
   "file_extension": ".py",
   "mimetype": "text/x-python",
   "name": "python",
   "nbconvert_exporter": "python",
   "pygments_lexer": "ipython3",
   "version": "3.6.3"
  }
 },
 "nbformat": 4,
 "nbformat_minor": 2
}
